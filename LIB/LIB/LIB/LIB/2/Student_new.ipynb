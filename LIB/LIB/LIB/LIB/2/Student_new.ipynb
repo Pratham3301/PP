{
 "cells": [
  {
   "cell_type": "code",
   "execution_count": 37,
   "metadata": {
    "id": "yhTlyS10SY9z"
   },
   "outputs": [],
   "source": [
    "import pandas as pd\n",
    "import numpy as np\n",
    "import matplotlib.pyplot as plt\n",
    "import seaborn as sns "
   ]
  },
  {
   "cell_type": "code",
   "execution_count": 38,
   "metadata": {
    "colab": {
     "base_uri": "https://localhost:8080/",
     "height": 363
    },
    "id": "F1hBwq8ySup7",
    "outputId": "1c556c70-ac77-4fba-d022-be7d7cfabc6c"
   },
   "outputs": [
    {
     "data": {
      "text/html": [
       "<div>\n",
       "<style scoped>\n",
       "    .dataframe tbody tr th:only-of-type {\n",
       "        vertical-align: middle;\n",
       "    }\n",
       "\n",
       "    .dataframe tbody tr th {\n",
       "        vertical-align: top;\n",
       "    }\n",
       "\n",
       "    .dataframe thead th {\n",
       "        text-align: right;\n",
       "    }\n",
       "</style>\n",
       "<table border=\"1\" class=\"dataframe\">\n",
       "  <thead>\n",
       "    <tr style=\"text-align: right;\">\n",
       "      <th></th>\n",
       "      <th>student_id</th>\n",
       "      <th>name</th>\n",
       "      <th>gender</th>\n",
       "      <th>math_score</th>\n",
       "      <th>reading_score</th>\n",
       "      <th>writing_score</th>\n",
       "      <th>hours_studied_per_week</th>\n",
       "      <th>attendance_rate</th>\n",
       "    </tr>\n",
       "  </thead>\n",
       "  <tbody>\n",
       "    <tr>\n",
       "      <th>0</th>\n",
       "      <td>1</td>\n",
       "      <td>Alia</td>\n",
       "      <td>Female</td>\n",
       "      <td>88.0</td>\n",
       "      <td>85.0</td>\n",
       "      <td>82.0</td>\n",
       "      <td>5.0</td>\n",
       "      <td>0.95</td>\n",
       "    </tr>\n",
       "    <tr>\n",
       "      <th>1</th>\n",
       "      <td>2</td>\n",
       "      <td>Vicky</td>\n",
       "      <td>Male</td>\n",
       "      <td>92.0</td>\n",
       "      <td>89.0</td>\n",
       "      <td>90.0</td>\n",
       "      <td>10.0</td>\n",
       "      <td>0.90</td>\n",
       "    </tr>\n",
       "    <tr>\n",
       "      <th>2</th>\n",
       "      <td>3</td>\n",
       "      <td>Priya</td>\n",
       "      <td>F</td>\n",
       "      <td>79.0</td>\n",
       "      <td>80.0</td>\n",
       "      <td>NaN</td>\n",
       "      <td>12.0</td>\n",
       "      <td>0.85</td>\n",
       "    </tr>\n",
       "    <tr>\n",
       "      <th>3</th>\n",
       "      <td>4</td>\n",
       "      <td>Rocky</td>\n",
       "      <td>Male</td>\n",
       "      <td>95.0</td>\n",
       "      <td>98.0</td>\n",
       "      <td>96.0</td>\n",
       "      <td>15.0</td>\n",
       "      <td>0.98</td>\n",
       "    </tr>\n",
       "    <tr>\n",
       "      <th>4</th>\n",
       "      <td>5</td>\n",
       "      <td>Eva</td>\n",
       "      <td>NaN</td>\n",
       "      <td>NaN</td>\n",
       "      <td>91.0</td>\n",
       "      <td>89.0</td>\n",
       "      <td>NaN</td>\n",
       "      <td>1.10</td>\n",
       "    </tr>\n",
       "    <tr>\n",
       "      <th>5</th>\n",
       "      <td>6</td>\n",
       "      <td>Payal</td>\n",
       "      <td>Female</td>\n",
       "      <td>67.0</td>\n",
       "      <td>60.0</td>\n",
       "      <td>65.0</td>\n",
       "      <td>8.0</td>\n",
       "      <td>0.75</td>\n",
       "    </tr>\n",
       "    <tr>\n",
       "      <th>6</th>\n",
       "      <td>7</td>\n",
       "      <td>Simran</td>\n",
       "      <td>Female</td>\n",
       "      <td>103.0</td>\n",
       "      <td>72.0</td>\n",
       "      <td>74.0</td>\n",
       "      <td>20.0</td>\n",
       "      <td>0.80</td>\n",
       "    </tr>\n",
       "    <tr>\n",
       "      <th>7</th>\n",
       "      <td>8</td>\n",
       "      <td>Omkar</td>\n",
       "      <td>Male</td>\n",
       "      <td>85.0</td>\n",
       "      <td>88.0</td>\n",
       "      <td>87.0</td>\n",
       "      <td>25.0</td>\n",
       "      <td>NaN</td>\n",
       "    </tr>\n",
       "    <tr>\n",
       "      <th>8</th>\n",
       "      <td>9</td>\n",
       "      <td>Shruti</td>\n",
       "      <td>Female</td>\n",
       "      <td>76.0</td>\n",
       "      <td>NaN</td>\n",
       "      <td>70.0</td>\n",
       "      <td>3.0</td>\n",
       "      <td>0.88</td>\n",
       "    </tr>\n",
       "    <tr>\n",
       "      <th>9</th>\n",
       "      <td>10</td>\n",
       "      <td>Sahil</td>\n",
       "      <td>Male</td>\n",
       "      <td>90.0</td>\n",
       "      <td>92.0</td>\n",
       "      <td>93.0</td>\n",
       "      <td>7.0</td>\n",
       "      <td>0.92</td>\n",
       "    </tr>\n",
       "  </tbody>\n",
       "</table>\n",
       "</div>"
      ],
      "text/plain": [
       "   student_id    name  gender  math_score  reading_score  writing_score  \\\n",
       "0           1    Alia  Female        88.0           85.0           82.0   \n",
       "1           2   Vicky    Male        92.0           89.0           90.0   \n",
       "2           3   Priya       F        79.0           80.0            NaN   \n",
       "3           4   Rocky    Male        95.0           98.0           96.0   \n",
       "4           5     Eva     NaN         NaN           91.0           89.0   \n",
       "5           6   Payal  Female        67.0           60.0           65.0   \n",
       "6           7  Simran  Female       103.0           72.0           74.0   \n",
       "7           8   Omkar    Male        85.0           88.0           87.0   \n",
       "8           9  Shruti  Female        76.0            NaN           70.0   \n",
       "9          10   Sahil    Male        90.0           92.0           93.0   \n",
       "\n",
       "   hours_studied_per_week  attendance_rate  \n",
       "0                     5.0             0.95  \n",
       "1                    10.0             0.90  \n",
       "2                    12.0             0.85  \n",
       "3                    15.0             0.98  \n",
       "4                     NaN             1.10  \n",
       "5                     8.0             0.75  \n",
       "6                    20.0             0.80  \n",
       "7                    25.0              NaN  \n",
       "8                     3.0             0.88  \n",
       "9                     7.0             0.92  "
      ]
     },
     "execution_count": 38,
     "metadata": {},
     "output_type": "execute_result"
    }
   ],
   "source": [
    "data = {\n",
    "    'student_id': list(range(1, 11)),\n",
    "    'name': [\n",
    "        'Alia', 'Vicky', 'Priya', 'Rocky', 'Eva',\n",
    "        'Payal', 'Simran', 'Omkar', 'Shruti', 'Sahil'\n",
    "    ],\n",
    "    'gender': [\n",
    "        'Female', 'Male', 'F', 'Male', np.nan,\n",
    "        'Female', 'Female', 'Male', 'Female', 'Male'\n",
    "    ],\n",
    "    'math_score': [\n",
    "        88, 92, 79, 95, np.nan,\n",
    "        67, 103, 85, 76, 90\n",
    "    ],\n",
    "    'reading_score': [\n",
    "        85, 89, 80, 98, 91,\n",
    "        60, 72, 88, np.nan, 92\n",
    "    ],\n",
    "    'writing_score': [\n",
    "        82, 90, np.nan, 96, 89,\n",
    "        65, 74, 87, 70, 93\n",
    "    ],\n",
    "    'hours_studied_per_week': [\n",
    "        5, 10, 12, 15, np.nan,\n",
    "        8, 20, 25, 3, 7\n",
    "    ],\n",
    "    'attendance_rate': [\n",
    "        0.95, 0.90, 0.85, 0.98, 1.10,\n",
    "        0.75, 0.80, np.nan, 0.88, 0.92\n",
    "    ]\n",
    "}\n",
    "\n",
    "df = pd.DataFrame(data)\n",
    "df"
   ]
  },
  {
   "cell_type": "code",
   "execution_count": 39,
   "metadata": {
    "colab": {
     "base_uri": "https://localhost:8080/"
    },
    "id": "tFazuMvdS-6F",
    "outputId": "dc34181b-0c64-4467-e5bb-54b99a7d4613"
   },
   "outputs": [
    {
     "name": "stdout",
     "output_type": "stream",
     "text": [
      "student_id                0\n",
      "name                      0\n",
      "gender                    1\n",
      "math_score                1\n",
      "reading_score             1\n",
      "writing_score             1\n",
      "hours_studied_per_week    1\n",
      "attendance_rate           1\n",
      "dtype: int64 \n",
      "\n",
      "gender\n",
      "Female    4\n",
      "Male      4\n",
      "F         1\n",
      "NaN       1\n",
      "Name: count, dtype: int64\n"
     ]
    }
   ],
   "source": [
    "# Missing values per column\n",
    "print(df.isnull().sum(), '\\n')\n",
    "\n",
    "# Check unique categories for 'gender' (inconsistencies: 'F' vs 'Female')\n",
    "print(df['gender'].value_counts(dropna=False))"
   ]
  },
  {
   "cell_type": "code",
   "execution_count": 40,
   "metadata": {
    "colab": {
     "base_uri": "https://localhost:8080/"
    },
    "id": "yH4fbxdWTZoq",
    "outputId": "eb277140-778f-4a42-feac-3a1da01da984"
   },
   "outputs": [
    {
     "name": "stdout",
     "output_type": "stream",
     "text": [
      "student_id                0\n",
      "name                      0\n",
      "gender                    0\n",
      "math_score                0\n",
      "reading_score             0\n",
      "writing_score             0\n",
      "hours_studied_per_week    0\n",
      "attendance_rate           0\n",
      "dtype: int64\n"
     ]
    }
   ],
   "source": [
    "# 1. Normalize gender labels\n",
    "df['gender'] = df['gender'].replace({'F': 'Female'})\n",
    "\n",
    "# 2. Fill missing genders with mode\n",
    "mode_gender = df['gender'].mode()[0]\n",
    "df['gender'] = df['gender'].fillna(mode_gender)\n",
    "\n",
    "# 3. Impute numeric columns with column mean\n",
    "num_cols = [\n",
    "    'math_score', 'reading_score', 'writing_score',\n",
    "    'hours_studied_per_week', 'attendance_rate'\n",
    "]\n",
    "\n",
    "for col in num_cols:\n",
    "    df[col] = df[col].fillna(df[col].mean())\n",
    "\n",
    "# Verify no missing values remain\n",
    "print(df.isnull().sum())"
   ]
  },
  {
   "cell_type": "code",
   "execution_count": 41,
   "metadata": {
    "colab": {
     "base_uri": "https://localhost:8080/",
     "height": 407
    },
    "id": "cpog9zWbTx4D",
    "outputId": "2dab29ab-aa43-4100-e2b7-6337634aaa1e"
   },
   "outputs": [
    {
     "data": {
      "image/png": "[encoded data removed]",
      "text/plain": [
       "<Figure size 1000x400 with 2 Axes>"
      ]
     },
     "metadata": {},
     "output_type": "display_data"
    }
   ],
   "source": [
    "# Add a small constant to avoid log(0)\n",
    "df['hours_log'] = np.log1p(df['hours_studied_per_week'])\n",
    "\n",
    "# Compare distributions\n",
    "\n",
    "fig, axs = plt.subplots(1, 2, figsize=(10,4))\n",
    "axs[0].hist(df['hours_studied_per_week'], bins=8 ,edgecolor=\"black\")\n",
    "axs[0].set_title('Original Hours Studied')\n",
    "axs[1].hist(df['hours_log'], bins=8 ,edgecolor=\"black\")\n",
    "axs[1].set_title('Log-Transformed Hours')\n",
    "plt.tight_layout()\n",
    "plt.show()"
   ]
  },
  {
   "cell_type": "code",
   "execution_count": 42,
   "metadata": {
    "colab": {
     "base_uri": "https://localhost:8080/",
     "height": 206
    },
    "id": "kaOXLT90UGsC",
    "outputId": "b230569b-e8b3-4648-e296-191b2949b47f"
   },
   "outputs": [
    {
     "data": {
      "text/html": [
       "<div>\n",
       "<style scoped>\n",
       "    .dataframe tbody tr th:only-of-type {\n",
       "        vertical-align: middle;\n",
       "    }\n",
       "\n",
       "    .dataframe tbody tr th {\n",
       "        vertical-align: top;\n",
       "    }\n",
       "\n",
       "    .dataframe thead th {\n",
       "        text-align: right;\n",
       "    }\n",
       "</style>\n",
       "<table border=\"1\" class=\"dataframe\">\n",
       "  <thead>\n",
       "    <tr style=\"text-align: right;\">\n",
       "      <th></th>\n",
       "      <th>student_id</th>\n",
       "      <th>name</th>\n",
       "      <th>gender</th>\n",
       "      <th>math_score</th>\n",
       "      <th>reading_score</th>\n",
       "      <th>writing_score</th>\n",
       "      <th>hours_studied_per_week</th>\n",
       "      <th>attendance_rate</th>\n",
       "      <th>hours_log</th>\n",
       "    </tr>\n",
       "  </thead>\n",
       "  <tbody>\n",
       "    <tr>\n",
       "      <th>0</th>\n",
       "      <td>1</td>\n",
       "      <td>Alia</td>\n",
       "      <td>Female</td>\n",
       "      <td>88.000000</td>\n",
       "      <td>85.0</td>\n",
       "      <td>82.000000</td>\n",
       "      <td>5.000000</td>\n",
       "      <td>0.95</td>\n",
       "      <td>1.791759</td>\n",
       "    </tr>\n",
       "    <tr>\n",
       "      <th>1</th>\n",
       "      <td>2</td>\n",
       "      <td>Vicky</td>\n",
       "      <td>Male</td>\n",
       "      <td>92.000000</td>\n",
       "      <td>89.0</td>\n",
       "      <td>90.000000</td>\n",
       "      <td>10.000000</td>\n",
       "      <td>0.90</td>\n",
       "      <td>2.397895</td>\n",
       "    </tr>\n",
       "    <tr>\n",
       "      <th>2</th>\n",
       "      <td>3</td>\n",
       "      <td>Priya</td>\n",
       "      <td>Female</td>\n",
       "      <td>79.000000</td>\n",
       "      <td>80.0</td>\n",
       "      <td>82.888889</td>\n",
       "      <td>12.000000</td>\n",
       "      <td>0.85</td>\n",
       "      <td>2.564949</td>\n",
       "    </tr>\n",
       "    <tr>\n",
       "      <th>3</th>\n",
       "      <td>4</td>\n",
       "      <td>Rocky</td>\n",
       "      <td>Male</td>\n",
       "      <td>95.000000</td>\n",
       "      <td>98.0</td>\n",
       "      <td>96.000000</td>\n",
       "      <td>15.000000</td>\n",
       "      <td>0.98</td>\n",
       "      <td>2.772589</td>\n",
       "    </tr>\n",
       "    <tr>\n",
       "      <th>4</th>\n",
       "      <td>5</td>\n",
       "      <td>Eva</td>\n",
       "      <td>Female</td>\n",
       "      <td>86.111111</td>\n",
       "      <td>91.0</td>\n",
       "      <td>89.000000</td>\n",
       "      <td>11.666667</td>\n",
       "      <td>1.10</td>\n",
       "      <td>2.538974</td>\n",
       "    </tr>\n",
       "  </tbody>\n",
       "</table>\n",
       "</div>"
      ],
      "text/plain": [
       "   student_id   name  gender  math_score  reading_score  writing_score  \\\n",
       "0           1   Alia  Female   88.000000           85.0      82.000000   \n",
       "1           2  Vicky    Male   92.000000           89.0      90.000000   \n",
       "2           3  Priya  Female   79.000000           80.0      82.888889   \n",
       "3           4  Rocky    Male   95.000000           98.0      96.000000   \n",
       "4           5    Eva  Female   86.111111           91.0      89.000000   \n",
       "\n",
       "   hours_studied_per_week  attendance_rate  hours_log  \n",
       "0                5.000000             0.95   1.791759  \n",
       "1               10.000000             0.90   2.397895  \n",
       "2               12.000000             0.85   2.564949  \n",
       "3               15.000000             0.98   2.772589  \n",
       "4               11.666667             1.10   2.538974  "
      ]
     },
     "execution_count": 42,
     "metadata": {},
     "output_type": "execute_result"
    }
   ],
   "source": [
    "df.head()"
   ]
  },
  {
   "cell_type": "code",
   "execution_count": 44,
   "metadata": {},
   "outputs": [
    {
     "name": "stdout",
     "output_type": "stream",
     "text": [
      "Before Cleaning: (10, 9)\n",
      "\n",
      "Final cleaned data shape: (8, 9)\n"
     ]
    }
   ],
   "source": [
    "# Step 1: Select numeric columns\n",
    "numeric_cols = df.select_dtypes(include=['number', 'float64' ,'int64']).columns\n",
    "\n",
    "# Step 2: Drop rows with missing values in numeric columns\n",
    "df_clean = df.dropna(subset=numeric_cols)\n",
    "print(\"Before Cleaning:\", df_clean.shape)\n",
    "\n",
    "# Step 3: Dictionary to store outliers\n",
    "outliers_dict = {}\n",
    "\n",
    "# Step 4: Detect and store outliers per column\n",
    "for col in numeric_cols:\n",
    "    Q1 = df_clean[col].quantile(0.25)\n",
    "    Q3 = df_clean[col].quantile(0.75)\n",
    "    IQR = Q3 - Q1\n",
    "    lower = Q1 - 1.5 * IQR\n",
    "    upper = Q3 + 1.5 * IQR\n",
    "\n",
    "    outliers = df_clean[(df_clean[col] < lower) | (df_clean[col] > upper)]\n",
    "    \n",
    "    # Store if outliers are present\n",
    "    if not outliers.empty:\n",
    "        outliers_dict[col] = outliers[[col]]\n",
    "\n",
    "    # Remove outliers from the data\n",
    "    df_clean = df_clean[(df_clean[col] >= lower) & (df_clean[col] <= upper)]\n",
    "\n",
    "print(f\"\\nFinal cleaned data shape: {df_clean.shape}\")\n"
   ]
  },
  {
   "cell_type": "code",
   "execution_count": 45,
   "metadata": {},
   "outputs": [
    {
     "name": "stdout",
     "output_type": "stream",
     "text": [
      "dict_keys(['reading_score', 'attendance_rate'])\n"
     ]
    }
   ],
   "source": [
    "print(outliers_dict.keys())"
   ]
  },
  {
   "cell_type": "code",
   "execution_count": 46,
   "metadata": {},
   "outputs": [
    {
     "data": {
      "image/png": "[encoded data removed]",
      "text/plain": [
       "<Figure size 600x400 with 1 Axes>"
      ]
     },
     "metadata": {},
     "output_type": "display_data"
    }
   ],
   "source": [
    "plot_df = pd.DataFrame({\n",
    "    'reading_score': pd.concat([\n",
    "        df['reading_score'],  # original\n",
    "        df_clean['reading_score'],  # cleaned\n",
    "    ], ignore_index=True),\n",
    "    'Dataset': ['Original'] * len(df) + ['Cleaned'] * len(df_clean)\n",
    "})\n",
    "\n",
    "# Plot side-by-side boxplots\n",
    "plt.figure(figsize=(6, 4))\n",
    "sns.boxplot(x='Dataset', y='reading_score', data=plot_df)\n",
    "plt.title(\"Boxplot Before and After Removing Outliers\")\n",
    "plt.show()\n"
   ]
  }
 ],
 "metadata": {
  "colab": {
   "provenance": []
  },
  "kernelspec": {
   "display_name": "Python 3 (ipykernel)",
   "language": "python",
   "name": "python3"
  },
  "language_info": {
   "codemirror_mode": {
    "name": "ipython",
    "version": 3
   },
   "file_extension": ".py",
   "mimetype": "text/x-python",
   "name": "python",
   "nbconvert_exporter": "python",
   "pygments_lexer": "ipython3",
   "version": "3.11.9"
  }
 },
 "nbformat": 4,
 "nbformat_minor": 4
}
